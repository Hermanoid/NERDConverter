{
 "cells": [
  {
   "cell_type": "code",
   "execution_count": 2,
   "metadata": {},
   "outputs": [],
   "source": [
    "import json\n",
    "import pydantic\n",
    "from pydantic import BaseModel\n",
    "from typing import List, Dict, Optional, Union"
   ]
  },
  {
   "cell_type": "code",
   "execution_count": 3,
   "metadata": {},
   "outputs": [],
   "source": [
    "# Pydantic model definitions\n",
    "\n",
    "class Item(BaseModel):\n",
    "    id: str\n",
    "    regName: str\n",
    "    name: str\n",
    "    displayName: str\n",
    "    nbt: Optional[dict]\n",
    "\n",
    "class Fluid(BaseModel):\n",
    "    localizedName: str\n",
    "    colorRGBA: List[int]\n",
    "    fluidState: str\n",
    "    fluidName: str\n",
    "    unlocalizedName: str\n",
    "    luminosity: int\n",
    "    density: int\n",
    "    temperature: int\n",
    "    viscosity: int\n",
    "    isGaseous: bool\n",
    "    rarity: str\n",
    "    id: int\n",
    "\n",
    "class RecipeStacks(BaseModel):\n",
    "    items: List[Item]\n",
    "    fluids: List[Fluid]\n",
    "\n",
    "class MinimalItem(BaseModel):\n",
    "    itemSlug: str\n",
    "    count: int\n",
    "    NBT: Optional[dict]\n",
    "\n",
    "class MinimalFluid(BaseModel):\n",
    "    fluidSlug: str\n",
    "    amount: int\n",
    "    NBT: Optional[dict]\n",
    "\n",
    "# An item can be: a minimal item, minimal fluid (for FluidDisplays), or str\n",
    "ItemSlot = Union[MinimalItem, MinimalFluid, str]\n",
    "FluidSlot = MinimalFluid\n",
    "\n",
    "class GenericRecipe(BaseModel):\n",
    "    ingredients: List[ItemSlot]\n",
    "    other_stacks: List[ItemSlot]\n",
    "    out_item: Optional[ItemSlot]\n",
    "\n",
    "class GregtechRecipe(BaseModel):\n",
    "    mInputs: List[ItemSlot]\n",
    "    mOutputs: List[ItemSlot]\n",
    "    mFluidInputs: List[FluidSlot]\n",
    "    mFluidOutputs: List[FluidSlot]\n",
    "    mDuration: int\n",
    "    mEUt: int\n",
    "    mSpecialValue: int\n",
    "    mEnabled: bool\n",
    "    mHidden: bool\n",
    "    mFakeRecipe: bool\n",
    "    mCanBeBuffered: bool\n",
    "    mNeedsEmptyOutput: bool\n",
    "    isNBTSensitive: bool\n",
    "    metadataStorage: dict\n",
    "\n",
    "class Recipe(BaseModel):\n",
    "    generic: Optional[GenericRecipe]\n",
    "    greg_data: Optional[GregtechRecipe]\n",
    "\n",
    "class HandlerDump(BaseModel):\n",
    "    recipes: List[Recipe]\n",
    "    id: str\n",
    "    name: str\n",
    "    tab_name: str\n",
    "\n",
    "class QueryDump(BaseModel):\n",
    "    handlers: List[HandlerDump]\n",
    "    query_item: ItemSlot\n",
    "\n",
    "class DumpFile(BaseModel):\n",
    "    version: str\n",
    "    queries: List[QueryDump]"
   ]
  },
  {
   "cell_type": "code",
   "execution_count": null,
   "metadata": {},
   "outputs": [],
   "source": [
    "recipes_stacks_file = \"example_data/recipes_stacks.json\"\n",
    "recipes_file = \"example_data/recipes.json\""
   ]
  },
  {
   "cell_type": "code",
   "execution_count": null,
   "metadata": {},
   "outputs": [],
   "source": []
  },
  {
   "cell_type": "code",
   "execution_count": null,
   "metadata": {},
   "outputs": [],
   "source": [
    "# My apologies to the RAM gods\n"
   ]
  }
 ],
 "metadata": {
  "kernelspec": {
   "display_name": "Python 3",
   "language": "python",
   "name": "python3"
  },
  "language_info": {
   "codemirror_mode": {
    "name": "ipython",
    "version": 3
   },
   "file_extension": ".py",
   "mimetype": "text/x-python",
   "name": "python",
   "nbconvert_exporter": "python",
   "pygments_lexer": "ipython3",
   "version": "3.11.4"
  },
  "orig_nbformat": 4
 },
 "nbformat": 4,
 "nbformat_minor": 2
}
